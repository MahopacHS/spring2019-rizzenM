{
  "cells": [
    {
      "metadata": {},
      "cell_type": "markdown",
      "source": "# In-Class Coding Lab: Files\n\nThe goals of this lab are to help you to understand:\n\n- Reading data from a file all at once or one line at a time.\n- Searching for data in files\n- Parsing text data to numerical data.\n- How to build complex programs incrementally.\n\n## Average  Spam Confidence\n\nFor this lab, we will write a program to read spam confidence headers from a mailbox file like `ICCL-mbox-tiny.txt` or `ICCL-mbox-small.txt`. These files contain raw email data, and in that data is a SPAM confidence number for each message:\n\n`X-DSPAM-Confidence:0.8475`\n\nOur goal will be to find each of these lines in the file, and extract the confidence number (In this case `0.8475`), with the end-goal of calculating the average SPAM Confidence of all the emails in the file. \n\n### Reading from the file\n\nLet's start with some code to read the lines of text from `ICCL-mbox-tiny.txt`"
    },
    {
      "metadata": {
        "trusted": false
      },
      "cell_type": "code",
      "source": "filename = \"CCL-mbox-tiny.txt\"\nwith open(filename, 'r') as f:\n    for line in f.readlines():\n        #print(line.strip())        \n        count = count + 1\nprint(count)",
      "execution_count": null,
      "outputs": []
    },
    {
      "metadata": {},
      "cell_type": "markdown",
      "source": "### Now Try It\n\nNow modify the code above to print the number of lines in the file, instead of printing the lines themselves. You'll need to increment a variable each time through the loop and then print it out afterwards.\n\nThere should be **332** lines.\n\n### Finding the SPAM Confidence\n\nNext, we'll focus on only getting lines addressing `X-DSPAM-Confidence:`. We do this by including an `if` statement inside  the `for` loop.\n\nYou need to edit line 4 of the code below to only print lines which begin with `X-DSPAM-Confidence:` There should be **5**"
    },
    {
      "metadata": {
        "trusted": false
      },
      "cell_type": "code",
      "source": "filename = \"CCL-mbox-tiny.txt\"\nwith open(filename, 'r') as f:\n    for line in f.readlines():\n        if \"X-DSPAM-Confidence:\" in line : \n            print(line.strip())        \n",
      "execution_count": null,
      "outputs": []
    },
    {
      "metadata": {},
      "cell_type": "markdown",
      "source": "### Parsing out the confidence value\n\nThe final step is to figure out how to parse out the confidence value from the string. \nFor example for the given line: `X-DSPAM-Confidence: 0.8475` we need to get the value `0.8475` as a float.\n\nThe  strategy here is to replace `X-DSPAM-Confidence:` with an empty string, then calling the `float()` function to convert the results to a float. \n\n### Now Try It\n"
    },
    {
      "metadata": {
        "trusted": true
      },
      "cell_type": "code",
      "source": "line = 'X-DSPAM-Confidence: 0.8475'\nnumber =  float(line.replace(\"X-DSPAM-COnfidence\",\"\"))\nprint (number)",
      "execution_count": 2,
      "outputs": [
        {
          "output_type": "error",
          "ename": "ValueError",
          "evalue": "could not convert string to float: 'X-DSPAM-Confidence: 0.8475'",
          "traceback": [
            "\u001b[0;31m---------------------------------------------------------------------------\u001b[0m",
            "\u001b[0;31mValueError\u001b[0m                                Traceback (most recent call last)",
            "\u001b[0;32m<ipython-input-2-d50c8eabb0e6>\u001b[0m in \u001b[0;36m<module>\u001b[0;34m()\u001b[0m\n\u001b[1;32m      1\u001b[0m \u001b[0mline\u001b[0m \u001b[0;34m=\u001b[0m \u001b[0;34m'X-DSPAM-Confidence: 0.8475'\u001b[0m\u001b[0;34m\u001b[0m\u001b[0m\n\u001b[0;32m----> 2\u001b[0;31m \u001b[0mnumber\u001b[0m \u001b[0;34m=\u001b[0m  \u001b[0mfloat\u001b[0m\u001b[0;34m(\u001b[0m\u001b[0mline\u001b[0m\u001b[0;34m.\u001b[0m\u001b[0mreplace\u001b[0m\u001b[0;34m(\u001b[0m\u001b[0;34m\"X-DSPAM-COnfidence\"\u001b[0m\u001b[0;34m,\u001b[0m\u001b[0;34m\"\"\u001b[0m\u001b[0;34m)\u001b[0m\u001b[0;34m)\u001b[0m\u001b[0;34m\u001b[0m\u001b[0m\n\u001b[0m\u001b[1;32m      3\u001b[0m \u001b[0mprint\u001b[0m \u001b[0;34m(\u001b[0m\u001b[0mnumber\u001b[0m\u001b[0;34m)\u001b[0m\u001b[0;34m\u001b[0m\u001b[0m\n",
            "\u001b[0;31mValueError\u001b[0m: could not convert string to float: 'X-DSPAM-Confidence: 0.8475'"
          ]
        }
      ]
    },
    {
      "metadata": {},
      "cell_type": "markdown",
      "source": "### Putting it all together\n\nNow that we have all the working parts, let's put it all together.\n\n```\n1.  line count is 0\n2.  total confidence is 0\n3.  open mailbox file\n4.  for each line in file\n5.  if line starts with `X-DSPAM-Confidence:`\n6.     remove `X-DSPAM-Confidence:` from line and convert to float\n7.     increment line count\n8.     add spam confidence to total confidence\n9.  print average confidence (total confidence/line count)\n```"
    },
    {
      "metadata": {
        "collapsed": true,
        "trusted": false
      },
      "cell_type": "code",
      "source": "## TODO: Write program here:\nfilename =\"CCL-mbox-tiny.txt\"\ncount = 0\nwith open(filename, \"r\") as f\n    for line in f.readlines():\n        if \"X-DSPAM-Confidence:\" in line \n        line = \"X-DSPAM-Confidence: 0.8475\"\n        number = float(line.replace(\"X-DSPAM-Confidence:\", \"\"))\n        print(line.strip())\n        print(number)",
      "execution_count": null,
      "outputs": []
    },
    {
      "metadata": {},
      "cell_type": "markdown",
      "source": "When you have the program working, try it with `ICCL-mbox-short.txt` mailbox file, too."
    }
  ],
  "metadata": {
    "anaconda-cloud": {},
    "kernelspec": {
      "name": "python3",
      "display_name": "Python 3",
      "language": "python"
    },
    "language_info": {
      "mimetype": "text/x-python",
      "nbconvert_exporter": "python",
      "name": "python",
      "file_extension": ".py",
      "version": "3.5.4",
      "pygments_lexer": "ipython3",
      "codemirror_mode": {
        "version": 3,
        "name": "ipython"
      }
    }
  },
  "nbformat": 4,
  "nbformat_minor": 1
}