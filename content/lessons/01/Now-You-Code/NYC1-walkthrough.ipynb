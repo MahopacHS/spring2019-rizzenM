{
  "cells": [
    {
      "metadata": {},
      "cell_type": "markdown",
      "source": "# Now You Code 1: Check Divider\n\nThis program will help you divide a dinner check evenly among the guests. You enter the number of diners and the amount of the check then the program will output the amount each diner should contribute to the check. \n\nExample run:\n\n```\nPython Check Divider\nHow many people are dining? 4\nWhat is the total amount of the check? 60\nEach person should contribute 15.0 dollars.\n```"
    },
    {
      "metadata": {
        "collapsed": true
      },
      "cell_type": "markdown",
      "source": "## Step 1: Problem Analysis\n\nInputs \nnumber of diners as an interger \ntotal amouint of the check\n\nOutputs: \namount each person should contribute to the check \n\n\nAlgorithm (Steps in Program):\n1: input number of diners \n2:input the number of the check\n3:contibution = amount of check / diners \n4:print the contibution \n\n"
    },
    {
      "metadata": {
        "collapsed": true,
        "trusted": false
      },
      "cell_type": "code",
      "source": "print(\"Python Check Divider\") \npeople = int(input(\"How many people are dining? \")) \ncheck_total = float(input(\"What is the total amount of the check? \"))\ncontribution = check_total / people \nprint(\"Each person should contribute\", contribution, \"dollars.\")\n",
      "execution_count": 2,
      "outputs": []
    },
    {
      "metadata": {
        "collapsed": true
      },
      "cell_type": "markdown",
      "source": "## Step 3: Questions\n\n1. What happens when you enter `TWO` instead of `2` for the number of people dining? or $60 as the amount of the check, instead of 60? both give a value error \n2. Why do you think this happens? its programed to reconize numbers and not letters\n3. Explain what happens when you enter `0.5` for the number of people dining? it will not work because there cant be a half of a person \n"
    },
    {
      "metadata": {},
      "cell_type": "markdown",
      "source": "## Reminder of Evaluation Criteria\n\n1. What the problem attempted (analysis, code, and answered questions) ?\n2. What the problem analysis thought out? (does the program match the plan?)\n3. Does the code execute without syntax error?\n4. Does the code solve the intended problem?\n5. Is the code well written? (easy to understand, modular, and self-documenting, handles errors)\n"
    },
    {
      "metadata": {
        "collapsed": true,
        "trusted": false
      },
      "cell_type": "code",
      "source": "",
      "execution_count": null,
      "outputs": []
    }
  ],
  "metadata": {
    "anaconda-cloud": {},
    "kernelspec": {
      "name": "python3",
      "display_name": "Python 3",
      "language": "python"
    },
    "language_info": {
      "codemirror_mode": {
        "name": "ipython",
        "version": 3
      },
      "file_extension": ".py",
      "mimetype": "text/x-python",
      "name": "python",
      "nbconvert_exporter": "python",
      "pygments_lexer": "ipython3",
      "version": "3.5.2"
    }
  },
  "nbformat": 4,
  "nbformat_minor": 1
}